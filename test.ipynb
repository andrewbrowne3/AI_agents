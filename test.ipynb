{
 "cells": [
  {
   "cell_type": "code",
   "execution_count": 2,
   "metadata": {},
   "outputs": [
    {
     "name": "stdout",
     "output_type": "stream",
     "text": [
      "<rdkit.Chem.rdchem.Mol object at 0x11d0c3370>\n"
     ]
    }
   ],
   "source": [
    "from rdkit import Chem\n",
    "from rdkit.Chem import Draw\n",
    "\n",
    "def smiles_to_mol(smiles):\n",
    "    \"\"\"\n",
    "    Convert a SMILES string to an RDKit molecule object.\n",
    "    \n",
    "    Args:\n",
    "    - smiles (str): A SMILES string representing the chemical structure.\n",
    "    \n",
    "    Returns:\n",
    "    - RDKit Mol object.\n",
    "    \"\"\"\n",
    "    mol = Chem.MolFromSmiles(smiles)\n",
    "    if mol is not None:\n",
    "        return mol\n",
    "    else:\n",
    "        raise ValueError(\"Invalid SMILES string\")\n",
    "\n",
    "def draw_molecule(mol):\n",
    "    \"\"\"\n",
    "    Draw a molecule using RDKit.\n",
    "    \n",
    "    Args:\n",
    "    - mol (RDKit Mol): A molecule object.\n",
    "    \n",
    "    Returns:\n",
    "    - Image of the molecule.\n",
    "    \"\"\"\n",
    "    return Draw.MolToImage(smiles_to_mol())\n",
    "\n",
    "\n",
    "smiles_str = \"CCO\"\n",
    "mol = smiles_to_mol(smiles_str)\n",
    "print(mol)\n",
    "img = draw_molecule(mol)\n",
    "img.show()"
   ]
  },
  {
   "cell_type": "code",
   "execution_count": null,
   "metadata": {},
   "outputs": [],
   "source": []
  }
 ],
 "metadata": {
  "kernelspec": {
   "display_name": "AIenv",
   "language": "python",
   "name": "python3"
  },
  "language_info": {
   "codemirror_mode": {
    "name": "ipython",
    "version": 3
   },
   "file_extension": ".py",
   "mimetype": "text/x-python",
   "name": "python",
   "nbconvert_exporter": "python",
   "pygments_lexer": "ipython3",
   "version": "3.11.5"
  },
  "orig_nbformat": 4
 },
 "nbformat": 4,
 "nbformat_minor": 2
}
